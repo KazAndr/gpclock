{
 "cells": [
  {
   "cell_type": "code",
   "execution_count": 2,
   "metadata": {},
   "outputs": [],
   "source": [
    "import glob\n",
    "#import datetime\n",
    "\n",
    "import numpy as np\n",
    "import matplotlib.pyplot as plt\n",
    "\n",
    "from numpy.fft import fft, ifft, fft2, ifft2, fftshift\n",
    "\n",
    "from jdutil import *\n",
    "from gpclock import read_header, get_time_delay, get_TB_sec, read_prf"
   ]
  },
  {
   "cell_type": "code",
   "execution_count": null,
   "metadata": {},
   "outputs": [],
   "source": []
  },
  {
   "cell_type": "code",
   "execution_count": 2,
   "metadata": {},
   "outputs": [],
   "source": [
    "earth_list = sorted(glob.glob('./final_test/*earth.csv'))"
   ]
  },
  {
   "cell_type": "code",
   "execution_count": 3,
   "metadata": {},
   "outputs": [],
   "source": [
    "prf_earth = np.genfromtxt(earth_list[0], skip_header=14).T"
   ]
  },
  {
   "cell_type": "code",
   "execution_count": 4,
   "metadata": {},
   "outputs": [],
   "source": [
    "original = prf_earth[1]\n",
    "shift = np.roll(prf_earth[1], -1150)"
   ]
  },
  {
   "cell_type": "code",
   "execution_count": null,
   "metadata": {},
   "outputs": [],
   "source": [
    "##### type(original)"
   ]
  },
  {
   "cell_type": "code",
   "execution_count": 6,
   "metadata": {},
   "outputs": [
    {
     "data": {
      "image/png": "[encoded data removed]",
      "text/plain": [
       "<Figure size 432x288 with 2 Axes>"
      ]
     },
     "metadata": {},
     "output_type": "display_data"
    }
   ],
   "source": [
    "plt.close()\n",
    "plt.subplot(2, 1, 1)\n",
    "plt.plot(original)\n",
    "plt.title(\"Earth pulse \")\n",
    "\n",
    "# !!! Две строки, три столбца.\n",
    "# !!! Текущая ячейка - 2\n",
    "plt.subplot(2, 1, 2)\n",
    "plt.plot(shift)\n",
    "plt.title(\"Moon pulse \")\n",
    "\n",
    "plt.tight_layout()\n",
    "\n",
    "plt.show()"
   ]
  },
  {
   "cell_type": "code",
   "execution_count": 8,
   "metadata": {},
   "outputs": [],
   "source": [
    "earth_list = sorted(glob.glob('./final_test/*earth.csv'))\n",
    "moon_list = sorted(glob.glob('./final_test/*moon.csv'))"
   ]
  },
  {
   "cell_type": "code",
   "execution_count": 9,
   "metadata": {},
   "outputs": [],
   "source": [
    "def save_tim(file, time_array):\n",
    "    with open(file, 'w') as f:\n",
    "        for idx, value in enumerate(time_array):\n",
    "            fs_p, sc_p = str(value.to_mjd()).split('.')\n",
    "            sec = str(round(float( '0.' + sc_p)*24*60*60), 10**8)\n",
    "            f.write(fs_p + '\\t')\n",
    "            f.write(sec + '\\t')\n",
    "            f.write('0.0' + '\\t')\n",
    "            f.write(sec + '\\t')\n",
    "            f.write('0.0' + '\\n')\n",
    "        \n",
    "    return None"
   ]
  },
  {
   "cell_type": "code",
   "execution_count": 10,
   "metadata": {},
   "outputs": [],
   "source": [
    "time_list_earth = []\n",
    "for i, _ in enumerate(earth_list):\n",
    "    header = read_header(earth_list[i])\n",
    "    # print(header)\n",
    "    prf_earth = np.genfromtxt(earth_list[i], skip_header=14).T\n",
    "\n",
    "    day, month, year = header['date'].split('/')\n",
    "    hour, minute, second = header['time'].split(':')\n",
    "    second, microsecond = second.split('.')\n",
    "    time_start_earth = datetime(\n",
    "        int(year),\n",
    "        int(month),\n",
    "        int(day),\n",
    "        int(hour),\n",
    "        int(minute),\n",
    "        int(second),\n",
    "        int(microsecond))\n",
    "    time_list_earth.append(time_start_earth)"
   ]
  },
  {
   "cell_type": "code",
   "execution_count": 11,
   "metadata": {},
   "outputs": [],
   "source": [
    "time_list_moon = []\n",
    "for i, _ in enumerate(moon_list):\n",
    "    header = read_header(moon_list[i])\n",
    "    # print(header)\n",
    "    prf_earth = np.genfromtxt(moon_list[i], skip_header=14).T\n",
    "\n",
    "    day, month, year = header['date'].split('/')\n",
    "    hour, minute, second = header['time'].split(':')\n",
    "    second, microsecond = second.split('.')\n",
    "    time_start_moon = datetime(\n",
    "        int(year),\n",
    "        int(month),\n",
    "        int(day),\n",
    "        int(hour),\n",
    "        int(minute),\n",
    "        int(second),\n",
    "        int(microsecond))\n",
    "    time_list_moon.append(time_start_moon)"
   ]
  },
  {
   "cell_type": "code",
   "execution_count": 12,
   "metadata": {},
   "outputs": [],
   "source": [
    "save_tim('./earth.out', time_list_earth)"
   ]
  },
  {
   "cell_type": "code",
   "execution_count": 13,
   "metadata": {},
   "outputs": [],
   "source": [
    "save_tim('./moon.out', time_list_moon)"
   ]
  },
  {
   "cell_type": "code",
   "execution_count": null,
   "metadata": {},
   "outputs": [],
   "source": []
  },
  {
   "cell_type": "code",
   "execution_count": null,
   "metadata": {},
   "outputs": [],
   "source": []
  },
  {
   "cell_type": "code",
   "execution_count": 14,
   "metadata": {},
   "outputs": [
    {
     "data": {
      "text/plain": [
       "-0.16588108799987822"
      ]
     },
     "execution_count": 14,
     "metadata": {},
     "output_type": "execute_result"
    }
   ],
   "source": [
    "get_TB_sec('./earth.out', 57754) - get_TB_sec('./moon.out', 57754)"
   ]
  },
  {
   "cell_type": "code",
   "execution_count": 26,
   "metadata": {},
   "outputs": [
    {
     "name": "stdout",
     "output_type": "stream",
     "text": [
      "809\n",
      "----------\n",
      "1.1599872\n",
      "1613\n",
      "----------\n",
      "3.1813632\n",
      "1180\n",
      "----------\n",
      "2.617344\n",
      "187\n",
      "----------\n",
      "0.251904\n",
      "-798\n",
      "----------\n",
      "-0.4018176\n",
      "513\n",
      "----------\n",
      "1.3283328\n",
      "2415\n",
      "----------\n",
      "3.1494144\n",
      "1533\n",
      "----------\n",
      "2.6689536\n"
     ]
    }
   ],
   "source": [
    "for i, _ in enumerate(earth_list):\n",
    "    header = read_header(earth_list[i])\n",
    "    # print(header)\n",
    "    prf_earth = np.genfromtxt(earth_list[i], skip_header=14).T\n",
    "\n",
    "    day, month, year = header['date'].split('/')\n",
    "    hour, minute, second = header['time'].split(':')\n",
    "    second, microsecond = second.split('.')\n",
    "    time_start_earth = datetime(\n",
    "        int(year),\n",
    "        int(month),\n",
    "        int(day),\n",
    "        int(hour),\n",
    "        int(minute),\n",
    "        int(second),\n",
    "        int(microsecond))\n",
    "    fs_p_earth, _ = str(time_start_earth.to_mjd()).split('.')\n",
    "    \n",
    "    header = read_header(moon_list[i])\n",
    "    prf_moon = np.genfromtxt(moon_list[i], skip_header=14).T\n",
    "    # print(header)\n",
    "\n",
    "    day, month, year = header['date'].split('/')\n",
    "    hour, minute, second = header['time'].split(':')\n",
    "    second, microsecond = second.split('.')\n",
    "    time_start_moon = datetime(\n",
    "        int(year),\n",
    "        int(month),\n",
    "        int(day),\n",
    "        int(hour),\n",
    "        int(minute),\n",
    "        int(second),\n",
    "        int(microsecond))\n",
    "    fs_p_moon, _ = str(time_start_moon.to_mjd()).split('.')\n",
    "    \n",
    "    tay = 1.2288/1000.\n",
    "    ts_e = get_TB_sec('./earth_0.out', fs_p_earth)\n",
    "    ts_m = get_TB_sec('./moon_0.out', fs_p_moon)\n",
    "    \n",
    "    print(get_time_delay(0, 0, prf_earth[1], prf_moon[1], 1))\n",
    "    print('-'*10)\n",
    "    print(get_time_delay(ts_e, ts_m, prf_earth[1], prf_moon[1], tay))"
   ]
  },
  {
   "cell_type": "code",
   "execution_count": 16,
   "metadata": {},
   "outputs": [],
   "source": [
    "def get_time_delay_full(file_obs_1, file_obs_2, file_out_1, file_out_2):\n",
    "    \n",
    "    header_1, points_1, flux_1 = read_prf(file_obs_1)\n",
    "    header_2, points_2, flux_2 = read_prf(file_obs_2)\n",
    "    \n",
    "    day_1, month_1, year_1 = header_1['date'].split('/')\n",
    "    hour_1, minute_1, second_1 = header_1['time'].split(':')\n",
    "    second_1, microsecond_1 = second_1.split('.')\n",
    "    time_start_1 = datetime(\n",
    "        int(year_1),\n",
    "        int(month_1),\n",
    "        int(day_1),\n",
    "        int(hour_1),\n",
    "        int(minute_1),\n",
    "        int(second_1),\n",
    "        int(microsecond_1))\n",
    "    time_start_1 -= dt.timedelta(hours=3) # to UTC time\n",
    "    fs_p_1, _ = str(time_start_1.to_mjd()).split('.')\n",
    "    \n",
    "    day_2, month_2, year_2 = header_2['date'].split('/')\n",
    "    hour_2, minute_2, second_2 = header_2['time'].split(':')\n",
    "    second_2, microsecond_2 = second_2.split('.')\n",
    "    time_start_2 = datetime(\n",
    "        int(year_2),\n",
    "        int(month_2),\n",
    "        int(day_2),\n",
    "        int(hour_2),\n",
    "        int(minute_2),\n",
    "        int(second_2),\n",
    "        int(microsecond_2))\n",
    "    time_start_2 -= dt.timedelta(hours=3) # to UTC time\n",
    "    fs_p_2, _ = str(time_start_2.to_mjd()).split('.')\n",
    "    \n",
    "    tay = np.float64(header_1['tau'])/1000.\n",
    "    \n",
    "    ts_1 = get_TB_sec(file_out_1, fs_p_1)\n",
    "    ts_2 = get_TB_sec(file_out_2, fs_p_2)\n",
    "    \n",
    "    return get_time_delay(ts_1, ts_2, flux_1, flux_2, tay)"
   ]
  },
  {
   "cell_type": "code",
   "execution_count": 17,
   "metadata": {},
   "outputs": [],
   "source": [
    "i = 1\n",
    "a = get_time_delay_full(earth_list[i], moon_list[1], './earth.out', './moon.out')"
   ]
  },
  {
   "cell_type": "code",
   "execution_count": 18,
   "metadata": {},
   "outputs": [
    {
     "data": {
      "text/plain": [
       "numpy.float64"
      ]
     },
     "execution_count": 18,
     "metadata": {},
     "output_type": "execute_result"
    }
   ],
   "source": [
    "type(a)"
   ]
  },
  {
   "cell_type": "code",
   "execution_count": 19,
   "metadata": {},
   "outputs": [],
   "source": [
    " head, t, ins = read_prf('data4test/AP/010117_1133+16_00.prf')"
   ]
  },
  {
   "cell_type": "code",
   "execution_count": 20,
   "metadata": {},
   "outputs": [
    {
     "name": "stdout",
     "output_type": "stream",
     "text": [
      "{'obscode': 'PO', 'time': '5:19:20.92138', 'frequency': '112.084', 'period': '1.18780828035', 'tau': '1.2288', 'rtype': 'DPP1', 'N used channels': '450', 'psrname': '1133+16', 'telcode': 'bsa1', 'utctime': '2:19:20.921382', 'date': '1/1/2017'}\n"
     ]
    }
   ],
   "source": [
    "print(head)"
   ]
  },
  {
   "cell_type": "code",
   "execution_count": 21,
   "metadata": {},
   "outputs": [
    {
     "name": "stdout",
     "output_type": "stream",
     "text": [
      "570\n"
     ]
    }
   ],
   "source": [
    "print(len(t))"
   ]
  },
  {
   "cell_type": "code",
   "execution_count": 22,
   "metadata": {},
   "outputs": [
    {
     "name": "stdout",
     "output_type": "stream",
     "text": [
      "570\n"
     ]
    }
   ],
   "source": [
    "print(len(ins))"
   ]
  },
  {
   "cell_type": "code",
   "execution_count": 23,
   "metadata": {},
   "outputs": [],
   "source": [
    "array_1 = [0, 0, 0, 1, 0, 0, 0]\n",
    "array_2 = [1, 0, 0, 0, 0, 0, 0]"
   ]
  },
  {
   "cell_type": "code",
   "execution_count": 24,
   "metadata": {},
   "outputs": [
    {
     "data": {
      "text/plain": [
       "-2.5"
      ]
     },
     "execution_count": 24,
     "metadata": {},
     "output_type": "execute_result"
    }
   ],
   "source": [
    "get_time_delay(0, 0.5, array_1, array_2, 1)"
   ]
  },
  {
   "cell_type": "code",
   "execution_count": 28,
   "metadata": {},
   "outputs": [
    {
     "data": {
      "text/plain": [
       "654689.65468769"
      ]
     },
     "execution_count": 28,
     "metadata": {},
     "output_type": "execute_result"
    }
   ],
   "source": [
    "np.round(654689.6546876916854, 8)"
   ]
  },
  {
   "cell_type": "markdown",
   "metadata": {},
   "source": [
    "## Создание и тестирование структуры"
   ]
  },
  {
   "cell_type": "code",
   "execution_count": 3,
   "metadata": {},
   "outputs": [],
   "source": [
    "import ctypes"
   ]
  },
  {
   "cell_type": "code",
   "execution_count": 4,
   "metadata": {},
   "outputs": [],
   "source": [
    "class timout(ctypes.Structure):\n",
    "     _fields_ = [\n",
    "         ('ntoas', ctypes.c_int),\n",
    "         ('psrname', ctypes.c_char_p),\n",
    "         ('mjd', ctypes.c_double * 1000),\n",
    "         ('utc', ctypes.c_double * 1000),\n",
    "         ('tdt', ctypes.c_double * 1000),\n",
    "         ('err', ctypes.c_double * 1000),\n",
    "         ('tdb', ctypes.c_double * 1000),\n",
    "         ('res', ctypes.c_double * 1000),\n",
    "         ('sigma', ctypes.c_char_p)\n",
    "     ]"
   ]
  },
  {
   "cell_type": "code",
   "execution_count": 5,
   "metadata": {},
   "outputs": [],
   "source": [
    "timout.ntoas = '1133+16'"
   ]
  },
  {
   "cell_type": "code",
   "execution_count": 6,
   "metadata": {},
   "outputs": [
    {
     "data": {
      "text/plain": [
       "'1133+16'"
      ]
     },
     "execution_count": 6,
     "metadata": {},
     "output_type": "execute_result"
    }
   ],
   "source": [
    "timout.ntoas"
   ]
  },
  {
   "cell_type": "code",
   "execution_count": 11,
   "metadata": {},
   "outputs": [],
   "source": [
    "data = (1.1, 1.2, 1.3, 1.4)\n",
    "L = len(data)\n",
    "timout.tdb = (ctypes.c_double * L)(*data)"
   ]
  },
  {
   "cell_type": "code",
   "execution_count": 14,
   "metadata": {},
   "outputs": [
    {
     "ename": "IndexError",
     "evalue": "invalid index",
     "output_type": "error",
     "traceback": [
      "\u001b[1;31m---------------------------------------------------------------------------\u001b[0m",
      "\u001b[1;31mIndexError\u001b[0m                                Traceback (most recent call last)",
      "\u001b[1;32m<ipython-input-14-0b9b52ac874d>\u001b[0m in \u001b[0;36m<module>\u001b[1;34m()\u001b[0m\n\u001b[1;32m----> 1\u001b[1;33m \u001b[0mtimout\u001b[0m\u001b[1;33m.\u001b[0m\u001b[0mtdb\u001b[0m\u001b[1;33m[\u001b[0m\u001b[1;36m5\u001b[0m\u001b[1;33m]\u001b[0m\u001b[1;33m\u001b[0m\u001b[0m\n\u001b[0m",
      "\u001b[1;31mIndexError\u001b[0m: invalid index"
     ]
    }
   ],
   "source": [
    "timout.tdb[5]"
   ]
  },
  {
   "cell_type": "code",
   "execution_count": null,
   "metadata": {},
   "outputs": [],
   "source": []
  }
 ],
 "metadata": {
  "kernelspec": {
   "display_name": "Python 3",
   "language": "python",
   "name": "python3"
  },
  "language_info": {
   "codemirror_mode": {
    "name": "ipython",
    "version": 3
   },
   "file_extension": ".py",
   "mimetype": "text/x-python",
   "name": "python",
   "nbconvert_exporter": "python",
   "pygments_lexer": "ipython3",
   "version": "3.5.2"
  }
 },
 "nbformat": 4,
 "nbformat_minor": 4
}
