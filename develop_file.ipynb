{
 "cells": [
  {
   "cell_type": "code",
   "execution_count": 3,
   "metadata": {},
   "outputs": [],
   "source": [
    "import glob\n",
    "#import datetime\n",
    "\n",
    "import numpy as np\n",
    "import matplotlib.pyplot as plt\n",
    "\n",
    "from numpy.fft import fft, ifft, fft2, ifft2, fftshift\n",
    "from astropy.time import Time\n",
    "from astropy import units as u\n",
    "\n",
    "from decimal import *\n",
    "from gpclock import isot_time, get_isot\n",
    "from gpclock import read_header, get_time_delay, get_TB_sec, read_prf"
   ]
  },
  {
   "cell_type": "code",
   "execution_count": null,
   "metadata": {},
   "outputs": [],
   "source": []
  },
  {
   "cell_type": "code",
   "execution_count": 2,
   "metadata": {},
   "outputs": [],
   "source": [
    "earth_list = sorted(glob.glob('./final_test/*earth.csv'))"
   ]
  },
  {
   "cell_type": "code",
   "execution_count": 3,
   "metadata": {},
   "outputs": [],
   "source": [
    "prf_earth = np.genfromtxt(earth_list[0], skip_header=14).T"
   ]
  },
  {
   "cell_type": "code",
   "execution_count": 4,
   "metadata": {},
   "outputs": [],
   "source": [
    "original = prf_earth[1]\n",
    "shift = np.roll(prf_earth[1], -1150)"
   ]
  },
  {
   "cell_type": "code",
   "execution_count": 5,
   "metadata": {},
   "outputs": [],
   "source": [
    "##### type(original)"
   ]
  },
  {
   "cell_type": "code",
   "execution_count": 6,
   "metadata": {},
   "outputs": [
    {
     "data": {
      "image/png": "[encoded data removed]",
      "text/plain": [
       "<Figure size 432x288 with 2 Axes>"
      ]
     },
     "metadata": {
      "needs_background": "light"
     },
     "output_type": "display_data"
    }
   ],
   "source": [
    "plt.close()\n",
    "plt.subplot(2, 1, 1)\n",
    "plt.plot(original)\n",
    "plt.title(\"Earth pulse \")\n",
    "\n",
    "# !!! Две строки, три столбца.\n",
    "# !!! Текущая ячейка - 2\n",
    "plt.subplot(2, 1, 2)\n",
    "plt.plot(shift)\n",
    "plt.title(\"Moon pulse \")\n",
    "\n",
    "plt.tight_layout()\n",
    "\n",
    "plt.show()"
   ]
  },
  {
   "cell_type": "code",
   "execution_count": 7,
   "metadata": {},
   "outputs": [],
   "source": [
    "earth_list = sorted(glob.glob('./final_test/*earth.csv'))\n",
    "moon_list = sorted(glob.glob('./final_test/*moon.csv'))"
   ]
  },
  {
   "cell_type": "code",
   "execution_count": 9,
   "metadata": {},
   "outputs": [],
   "source": [
    "def save_tim(file, time_array):\n",
    "    with open(file, 'w') as f:\n",
    "        for idx, value in enumerate(time_array):\n",
    "            fs_p, sc_p = str(value.to_mjd()).split('.')\n",
    "            sec = str(round(float( '0.' + sc_p)*24*60*60, 15))\n",
    "            f.write(fs_p + '\\t')\n",
    "            f.write(sec + '\\t')\n",
    "            f.write('0.0' + '\\t')\n",
    "            f.write(sec + '\\t')\n",
    "            f.write('0.0' + '\\n')\n",
    "        \n",
    "    return None"
   ]
  },
  {
   "cell_type": "code",
   "execution_count": 32,
   "metadata": {},
   "outputs": [],
   "source": [
    "def save_tim_moon(file, time_array, file_shift, tay):\n",
    "    shift_file = np.genfromtxt(file_shift).T\n",
    "    with open(file, 'w') as f:\n",
    "        for idx, value in enumerate(time_array):\n",
    "            fs_p, sc_p = str(value.to_mjd()).split('.')\n",
    "            sec = str(round(float( '0.' + sc_p)*24*60*60, 15) + shift_file[3][idx]*tay)\n",
    "            f.write(fs_p + '\\t')\n",
    "            f.write(sec + '\\t')\n",
    "            f.write('0.0' + '\\t')\n",
    "            f.write(sec + '\\t')\n",
    "            f.write('0.0' + '\\n')\n",
    "\n",
    "    return None"
   ]
  },
  {
   "cell_type": "code",
   "execution_count": null,
   "metadata": {},
   "outputs": [],
   "source": []
  },
  {
   "cell_type": "code",
   "execution_count": 10,
   "metadata": {},
   "outputs": [],
   "source": [
    "time_list_earth = []\n",
    "for i, _ in enumerate(earth_list):\n",
    "    header = read_header(earth_list[i])\n",
    "    # print(header)\n",
    "    prf_earth = np.genfromtxt(earth_list[i], skip_header=14).T\n",
    "\n",
    "    time_start_earth = isot_time(get_isot(header))\n",
    "    time_list_earth.append(time_start_earth)"
   ]
  },
  {
   "cell_type": "code",
   "execution_count": 11,
   "metadata": {},
   "outputs": [],
   "source": [
    "time_list_moon = []\n",
    "for i, _ in enumerate(moon_list):\n",
    "    header = read_header(moon_list[i])\n",
    "    # print(header)\n",
    "    prf_earth = np.genfromtxt(moon_list[i], skip_header=14).T\n",
    "\n",
    "    time_start_moon = isot_time(get_isot(header))\n",
    "    time_list_moon.append(time_start_moon)\n"
   ]
  },
  {
   "cell_type": "code",
   "execution_count": 12,
   "metadata": {},
   "outputs": [],
   "source": [
    "save_tim('./earth.out', time_list_earth)"
   ]
  },
  {
   "cell_type": "code",
   "execution_count": 34,
   "metadata": {},
   "outputs": [],
   "source": [
    "save_tim_moon('./moon.out', time_list_earth, './shift.csv',1.2288/1000)"
   ]
  },
  {
   "cell_type": "code",
   "execution_count": 36,
   "metadata": {},
   "outputs": [
    {
     "name": "stdout",
     "output_type": "stream",
     "text": [
      "-774\n",
      "----------\n",
      "-0.0749568\n",
      "-265\n",
      "----------\n",
      "0.3760128\n",
      "2344\n",
      "----------\n",
      "3.5254272\n",
      "1357\n",
      "----------\n",
      "2.4477696\n",
      "260\n",
      "----------\n",
      "0.7102464\n",
      "1427\n",
      "----------\n",
      "2.8643328\n",
      "-954\n",
      "----------\n",
      "-0.9302016\n",
      "1634\n",
      "----------\n",
      "2.1737472\n"
     ]
    }
   ],
   "source": [
    "for i, _ in enumerate(earth_list):\n",
    "    header = read_header(earth_list[i])\n",
    "    # print(header)\n",
    "    prf_earth = np.genfromtxt(earth_list[i], skip_header=14).T\n",
    "\n",
    "    time_start_earth = isot_time(get_isot(header))\n",
    "    fs_p_earth = np.round(time_start_earth.to_mjd(), 6)\n",
    "\n",
    "    header = read_header(moon_list[i])\n",
    "    prf_moon = np.genfromtxt(moon_list[i], skip_header=14).T\n",
    "    # print(header)\n",
    "\n",
    "    time_start_moon = isot_time(get_isot(header))\n",
    "    fs_p_moon = np.round(time_start_moon.to_mjd(), 6)\n",
    "\n",
    "    tay = 1.2288/1000.\n",
    "    ts_e = get_TB_sec('./earth.out', fs_p_earth)\n",
    "    ts_m = get_TB_sec('./moon.out', fs_p_moon)\n",
    "\n",
    "    print(get_time_delay(0, 0, prf_earth[1], prf_moon[1], 1))\n",
    "    print('-'*10)\n",
    "    print(get_time_delay(ts_e, ts_m, prf_earth[1], prf_moon[1], tay))"
   ]
  },
  {
   "cell_type": "code",
   "execution_count": 38,
   "metadata": {},
   "outputs": [
    {
     "data": {
      "text/plain": [
       "0.3760128"
      ]
     },
     "execution_count": 38,
     "metadata": {},
     "output_type": "execute_result"
    }
   ],
   "source": [
    "from decimal import *\n",
    "306*1.2288/1000.0"
   ]
  },
  {
   "cell_type": "code",
   "execution_count": 28,
   "metadata": {},
   "outputs": [
    {
     "data": {
      "text/plain": [
       "0.3108864"
      ]
     },
     "execution_count": 28,
     "metadata": {},
     "output_type": "execute_result"
    }
   ],
   "source": [
    "253*1.2288/1000.0"
   ]
  },
  {
   "cell_type": "code",
   "execution_count": 30,
   "metadata": {},
   "outputs": [
    {
     "data": {
      "text/plain": [
       "3.4234367999999993"
      ]
     },
     "execution_count": 30,
     "metadata": {},
     "output_type": "execute_result"
    }
   ],
   "source": [
    "2786*1.2288/1000.0"
   ]
  },
  {
   "cell_type": "code",
   "execution_count": 29,
   "metadata": {},
   "outputs": [
    {
     "data": {
      "text/plain": [
       "0.5271551999999999"
      ]
     },
     "execution_count": 29,
     "metadata": {},
     "output_type": "execute_result"
    }
   ],
   "source": [
    "429*1.2288/1000.0"
   ]
  },
  {
   "cell_type": "code",
   "execution_count": 43,
   "metadata": {},
   "outputs": [
    {
     "name": "stdout",
     "output_type": "stream",
     "text": [
      "2:19:20.921382 02:19:21.004940400 68.0 0.08355839999999999\n",
      "--------------------\n",
      "0:17:26.735784 00:17:27.823272000 885.0 1.0874879999999998\n",
      "--------------------\n",
      "22:27:21.497308 22:27:22.439797600 767.0 0.9424895999999999\n",
      "--------------------\n",
      "6:30:45.999567 06:30:46.641000600 522.0 0.6414335999999999\n",
      "--------------------\n",
      "10:30:35.545417 10:30:36.652565800 901.0 1.1071488\n",
      "--------------------\n",
      "21:35:48.160213 21:35:48.399829000 195.0 0.239616\n",
      "--------------------\n",
      "13:40:5.8787752 13:40:07.065796000 966.0 1.1870208\n",
      "--------------------\n",
      "17:32:3.3406294 17:32:03.688379800 283.0 0.34775039999999996\n",
      "--------------------\n"
     ]
    }
   ],
   "source": [
    "earth_list = sorted(glob.glob('./final_test/*earth.csv'))\n",
    "moon_list = sorted(glob.glob('./final_test/*moon.csv'))\n",
    "shift_file = np.genfromtxt('./shift.csv').T\n",
    "for file_earth, file_moon, shift in zip(earth_list, moon_list, shift_file[3]):\n",
    "    head_earth = read_header(file_earth)\n",
    "    head_moon = read_header(file_moon)\n",
    "    \n",
    "    print(head_earth['utctime'], head_moon['utctime'], shift, shift*1.2288/1000)\n",
    "    print(20*'-')"
   ]
  },
  {
   "cell_type": "code",
   "execution_count": 26,
   "metadata": {},
   "outputs": [
    {
     "name": "stdout",
     "output_type": "stream",
     "text": [
      "0 3108864\n"
     ]
    }
   ],
   "source": [
    "dt_s, dt_ms = str(round(253 * 1.2288/1000, 9)).split('.')                                                                               \n",
    "print(dt_s, dt_ms)"
   ]
  },
  {
   "cell_type": "code",
   "execution_count": 22,
   "metadata": {},
   "outputs": [],
   "source": [
    "shifted_time = str(np.datetime64('2002-05-05T02:19:20.921382')                                          \n",
    "                   + np.timedelta64(dt_s, 's')\n",
    "                   + np.timedelta64(dt_ms + '0'*(9-len(dt_ms)), 'ns')                                            \n",
    "                  ) "
   ]
  },
  {
   "cell_type": "code",
   "execution_count": 23,
   "metadata": {},
   "outputs": [
    {
     "data": {
      "text/plain": [
       "'2002-05-05T02:19:21.137650800'"
      ]
     },
     "execution_count": 23,
     "metadata": {},
     "output_type": "execute_result"
    }
   ],
   "source": [
    "shifted_time"
   ]
  },
  {
   "cell_type": "code",
   "execution_count": 18,
   "metadata": {},
   "outputs": [
    {
     "data": {
      "text/plain": [
       "numpy.datetime64('2002-05-05T02:19:21.137650800')"
      ]
     },
     "execution_count": 18,
     "metadata": {},
     "output_type": "execute_result"
    }
   ],
   "source": [
    "np.datetime64('2002-05-05T02:19:20.921382') + np.timedelta64(dt_s, 's') + np.timedelta64('216268800', 'ns')"
   ]
  },
  {
   "cell_type": "code",
   "execution_count": 16,
   "metadata": {},
   "outputs": [
    {
     "name": "stdout",
     "output_type": "stream",
     "text": [
      "216268800\n"
     ]
    }
   ],
   "source": [
    "a = '2162688'\n",
    "print(a + '0'*(9-len(a))) "
   ]
  },
  {
   "cell_type": "code",
   "execution_count": 72,
   "metadata": {},
   "outputs": [
    {
     "data": {
      "text/plain": [
       "0.31088639999999756"
      ]
     },
     "execution_count": 72,
     "metadata": {},
     "output_type": "execute_result"
    }
   ],
   "source": [
    "21.232268400 - 20.921382"
   ]
  },
  {
   "cell_type": "code",
   "execution_count": 73,
   "metadata": {},
   "outputs": [
    {
     "data": {
      "text/plain": [
       "0.310881456000061"
      ]
     },
     "execution_count": 73,
     "metadata": {},
     "output_type": "execute_result"
    }
   ],
   "source": [
    "8361.23229864 - 8360.921417184"
   ]
  },
  {
   "cell_type": "code",
   "execution_count": 35,
   "metadata": {},
   "outputs": [
    {
     "name": "stdout",
     "output_type": "stream",
     "text": [
      "0.8761343999995006 0.8761343999999999 4.992672941739329e-13\n",
      "--------------------\n",
      "0.70164479999994 0.7016448 5.995204332975845e-14\n",
      "--------------------\n",
      "0.6451200000010431 0.6451199999999999 1.043165553937797e-12\n",
      "--------------------\n",
      "0.7802880000017467 0.7802879999999999 1.7468249069452213e-12\n",
      "--------------------\n",
      "0.39075839999713935 0.39075839999999995 2.8606006452491783e-12\n",
      "--------------------\n",
      "1.11083520000102 1.1108352 1.0200729150255938e-12\n",
      "--------------------\n",
      "0.24207359999854816 0.24207359999999997 1.4518108937267016e-12\n",
      "--------------------\n",
      "0.1658880000031786 0.16588799999999998 3.1786240306530544e-12\n",
      "--------------------\n"
     ]
    }
   ],
   "source": [
    "earth_file = np.genfromtxt('./earth.out').T\n",
    "moon_file = np.genfromtxt('./moon.out').T\n",
    "shift_file = np.genfromtxt('./shift.csv').T\n",
    "for time_earth, time_moon, shift in zip(earth_file[3], moon_file[3], shift_file[3]):    \n",
    "    a = abs(time_earth - time_moon)\n",
    "    b = shift*1.2288/1000\n",
    "    print(a, b, np.abs(a-b))\n",
    "    print(20*'-')"
   ]
  },
  {
   "cell_type": "code",
   "execution_count": 37,
   "metadata": {},
   "outputs": [],
   "source": [
    "a = Decimal(5.13245686135465)"
   ]
  },
  {
   "cell_type": "code",
   "execution_count": 40,
   "metadata": {},
   "outputs": [
    {
     "data": {
      "text/plain": [
       "5.13245686135465"
      ]
     },
     "execution_count": 40,
     "metadata": {},
     "output_type": "execute_result"
    }
   ],
   "source": [
    "np.float64(a)"
   ]
  },
  {
   "cell_type": "code",
   "execution_count": 41,
   "metadata": {},
   "outputs": [
    {
     "data": {
      "text/plain": [
       "86400"
      ]
     },
     "execution_count": 41,
     "metadata": {},
     "output_type": "execute_result"
    }
   ],
   "source": [
    "24*60*60"
   ]
  },
  {
   "cell_type": "code",
   "execution_count": 19,
   "metadata": {},
   "outputs": [],
   "source": [
    "def get_array(filename):\n",
    "    \"Help\"\n",
    "    tim_array = np.genfromtxt(filename, dtype='str').T\n",
    "    return tim_array[[0, 1, 3], :]"
   ]
  },
  {
   "cell_type": "code",
   "execution_count": 50,
   "metadata": {},
   "outputs": [],
   "source": [
    "def get_TB_sec_array(array, MJD):\n",
    "    \"Help\"\n",
    "    mjd_5_sing = [\n",
    "        np.round(int(mjd) + np.float64(utsec)/86400, 6)\n",
    "        for mjd, utsec in zip(array[0], array[1])\n",
    "    ]\n",
    "    idx = np.where(np.asarray(mjd_5_sing) == MJD)\n",
    "\n",
    "    return float(array[2][idx].item())"
   ]
  },
  {
   "cell_type": "code",
   "execution_count": 51,
   "metadata": {},
   "outputs": [
    {
     "name": "stdout",
     "output_type": "stream",
     "text": [
      "True\n",
      "(array([0], dtype=int64),)\n"
     ]
    },
    {
     "data": {
      "text/plain": [
       "27275.56058022"
      ]
     },
     "execution_count": 51,
     "metadata": {},
     "output_type": "execute_result"
    }
   ],
   "source": [
    "get_TB_sec_array(get_array('data4test/_tim.out'), 50856.318472)"
   ]
  },
  {
   "cell_type": "code",
   "execution_count": null,
   "metadata": {},
   "outputs": [],
   "source": []
  },
  {
   "cell_type": "code",
   "execution_count": 37,
   "metadata": {},
   "outputs": [
    {
     "data": {
      "text/plain": [
       "array([['50856', '50993', '51000', '51004', '51017', '51157'],\n",
       "       ['27516.00282619', '70646.00440272', '74214.00293870',\n",
       "        '70438.00264227', '69890.00291787', '23251.00541471'],\n",
       "       ['27275.56058022', '70383.50272350', '73937.07694551',\n",
       "        '70158.82784806', '69645.26628208', '22998.56407834']],\n",
       "      dtype='<U14')"
      ]
     },
     "execution_count": 37,
     "metadata": {},
     "output_type": "execute_result"
    }
   ],
   "source": [
    "get_array('data4test/_tim.out')"
   ]
  },
  {
   "cell_type": "code",
   "execution_count": 41,
   "metadata": {},
   "outputs": [
    {
     "ename": "ValueError",
     "evalue": "can only convert an array of size 1 to a Python scalar",
     "output_type": "error",
     "traceback": [
      "\u001b[1;31m---------------------------------------------------------------------------\u001b[0m",
      "\u001b[1;31mValueError\u001b[0m                                Traceback (most recent call last)",
      "\u001b[1;32m<ipython-input-41-dc181e9d8d13>\u001b[0m in \u001b[0;36m<module>\u001b[1;34m()\u001b[0m\n\u001b[1;32m----> 1\u001b[1;33m \u001b[0mget_TB_sec\u001b[0m\u001b[1;33m(\u001b[0m\u001b[1;34m'data4test/_tim.out'\u001b[0m\u001b[1;33m,\u001b[0m \u001b[1;36m50856.318472\u001b[0m\u001b[1;33m)\u001b[0m\u001b[1;33m\u001b[0m\u001b[0m\n\u001b[0m",
      "\u001b[1;32mF:\\YandexDisk\\3.Programing\\work\\project_pulsar\\gpclock\\gpclock.py\u001b[0m in \u001b[0;36mget_TB_sec\u001b[1;34m(filename, MJD)\u001b[0m\n\u001b[0;32m    509\u001b[0m     \u001b[0midx\u001b[0m \u001b[1;33m=\u001b[0m \u001b[0mnp\u001b[0m\u001b[1;33m.\u001b[0m\u001b[0mwhere\u001b[0m\u001b[1;33m(\u001b[0m\u001b[0mmjd_5_sing\u001b[0m \u001b[1;33m==\u001b[0m \u001b[0mMJD\u001b[0m\u001b[1;33m)\u001b[0m\u001b[1;33m\u001b[0m\u001b[0m\n\u001b[0;32m    510\u001b[0m \u001b[1;33m\u001b[0m\u001b[0m\n\u001b[1;32m--> 511\u001b[1;33m     \u001b[1;32mreturn\u001b[0m \u001b[0mfloat\u001b[0m\u001b[1;33m(\u001b[0m\u001b[0mtim_array\u001b[0m\u001b[1;33m[\u001b[0m\u001b[1;36m3\u001b[0m\u001b[1;33m]\u001b[0m\u001b[1;33m[\u001b[0m\u001b[0midx\u001b[0m\u001b[1;33m]\u001b[0m\u001b[1;33m.\u001b[0m\u001b[0mitem\u001b[0m\u001b[1;33m(\u001b[0m\u001b[1;33m)\u001b[0m\u001b[1;33m)\u001b[0m\u001b[1;33m\u001b[0m\u001b[0m\n\u001b[0m\u001b[0;32m    512\u001b[0m \u001b[1;33m\u001b[0m\u001b[0m\n\u001b[0;32m    513\u001b[0m \u001b[1;32mdef\u001b[0m \u001b[0mget_time_delay_full\u001b[0m\u001b[1;33m(\u001b[0m\u001b[0mfile_obs_1\u001b[0m\u001b[1;33m,\u001b[0m \u001b[0mfile_obs_2\u001b[0m\u001b[1;33m,\u001b[0m \u001b[0mfile_out_1\u001b[0m\u001b[1;33m,\u001b[0m \u001b[0mfile_out_2\u001b[0m\u001b[1;33m,\u001b[0m \u001b[0mtz1\u001b[0m\u001b[1;33m=\u001b[0m\u001b[1;36m3\u001b[0m\u001b[1;33m,\u001b[0m \u001b[0mtz2\u001b[0m\u001b[1;33m=\u001b[0m\u001b[1;36m3\u001b[0m\u001b[1;33m)\u001b[0m\u001b[1;33m:\u001b[0m\u001b[1;33m\u001b[0m\u001b[0m\n",
      "\u001b[1;31mValueError\u001b[0m: can only convert an array of size 1 to a Python scalar"
     ]
    }
   ],
   "source": [
    "get_TB_sec('data4test/_tim.out', 50856.318472)"
   ]
  },
  {
   "cell_type": "code",
   "execution_count": 39,
   "metadata": {},
   "outputs": [
    {
     "data": {
      "text/plain": [
       "50856.318472"
      ]
     },
     "execution_count": 39,
     "metadata": {},
     "output_type": "execute_result"
    }
   ],
   "source": [
    "round(50856 + 27516.00282619/86400, 6)"
   ]
  },
  {
   "cell_type": "code",
   "execution_count": null,
   "metadata": {},
   "outputs": [],
   "source": []
  }
 ],
 "metadata": {
  "kernelspec": {
   "display_name": "Python 3",
   "language": "python",
   "name": "python3"
  },
  "language_info": {
   "codemirror_mode": {
    "name": "ipython",
    "version": 3
   },
   "file_extension": ".py",
   "mimetype": "text/x-python",
   "name": "python",
   "nbconvert_exporter": "python",
   "pygments_lexer": "ipython3",
   "version": "3.5.2"
  }
 },
 "nbformat": 4,
 "nbformat_minor": 4
}
